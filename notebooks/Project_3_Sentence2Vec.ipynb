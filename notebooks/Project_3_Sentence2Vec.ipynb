{
  "nbformat": 4,
  "nbformat_minor": 0,
  "metadata": {
    "colab": {
      "provenance": []
    },
    "kernelspec": {
      "name": "python3",
      "display_name": "Python 3"
    },
    "language_info": {
      "name": "python"
    },
    "accelerator": "GPU",
    "gpuClass": "standard"
  },
  "cells": [
    {
      "cell_type": "code",
      "source": [
        "!wget http://nlp.stanford.edu/data/glove.6B.zip"
      ],
      "metadata": {
        "colab": {
          "base_uri": "https://localhost:8080/"
        },
        "id": "UzSjcwF9Jbtf",
        "outputId": "08bcddb1-9ea3-489a-fb96-316fae6069c5"
      },
      "execution_count": null,
      "outputs": [
        {
          "output_type": "stream",
          "name": "stdout",
          "text": [
            "--2022-12-08 14:04:22--  http://nlp.stanford.edu/data/glove.6B.zip\n",
            "Resolving nlp.stanford.edu (nlp.stanford.edu)... 171.64.67.140\n",
            "Connecting to nlp.stanford.edu (nlp.stanford.edu)|171.64.67.140|:80... connected.\n",
            "HTTP request sent, awaiting response... 302 Found\n",
            "Location: https://nlp.stanford.edu/data/glove.6B.zip [following]\n",
            "--2022-12-08 14:04:22--  https://nlp.stanford.edu/data/glove.6B.zip\n",
            "Connecting to nlp.stanford.edu (nlp.stanford.edu)|171.64.67.140|:443... connected.\n",
            "HTTP request sent, awaiting response... 301 Moved Permanently\n",
            "Location: https://downloads.cs.stanford.edu/nlp/data/glove.6B.zip [following]\n",
            "--2022-12-08 14:04:23--  https://downloads.cs.stanford.edu/nlp/data/glove.6B.zip\n",
            "Resolving downloads.cs.stanford.edu (downloads.cs.stanford.edu)... 171.64.64.22\n",
            "Connecting to downloads.cs.stanford.edu (downloads.cs.stanford.edu)|171.64.64.22|:443... connected.\n",
            "HTTP request sent, awaiting response... 200 OK\n",
            "Length: 862182613 (822M) [application/zip]\n",
            "Saving to: ‘glove.6B.zip’\n",
            "\n",
            "glove.6B.zip        100%[===================>] 822.24M  4.99MB/s    in 2m 38s  \n",
            "\n",
            "2022-12-08 14:07:02 (5.19 MB/s) - ‘glove.6B.zip’ saved [862182613/862182613]\n",
            "\n"
          ]
        }
      ]
    },
    {
      "cell_type": "code",
      "source": [
        "!unzip glove*.zip"
      ],
      "metadata": {
        "colab": {
          "base_uri": "https://localhost:8080/"
        },
        "id": "eIi6UiDSJjNP",
        "outputId": "8fa433bd-e37e-4d35-fd7a-4db0e288c062"
      },
      "execution_count": null,
      "outputs": [
        {
          "output_type": "stream",
          "name": "stdout",
          "text": [
            "Archive:  glove.6B.zip\n",
            "  inflating: glove.6B.50d.txt        \n",
            "  inflating: glove.6B.100d.txt       \n",
            "  inflating: glove.6B.200d.txt       \n",
            "  inflating: glove.6B.300d.txt       \n"
          ]
        }
      ]
    },
    {
      "cell_type": "code",
      "execution_count": null,
      "metadata": {
        "id": "VEcEcVsgJAfy"
      },
      "outputs": [],
      "source": [
        "import numpy as np\n",
        "from typing import List\n",
        "import math\n",
        "import pandas as pd\n",
        "import pickle"
      ]
    },
    {
      "cell_type": "code",
      "source": [
        "word_frequency = dict()\n",
        "avg_frequency = 1.0\n",
        "with open('word-frequency-list.txt', 'rt') as reader:\n",
        "    max_value = 0.0\n",
        "    counter = 0\n",
        "    for line in reader:\n",
        "        line = line.strip().split(' ')\n",
        "        if len(line) == 2:\n",
        "            value = math.log2(float(line[1]))\n",
        "            avg_frequency += value\n",
        "            counter += 1\n",
        "            word_frequency[line[0].lower()] = value\n",
        "    avg_frequency /= counter\n",
        "\n",
        "\n",
        "# an embedding word with associated vector\n",
        "class Word:\n",
        "    def __init__(self, text, vector):\n",
        "        self.text = text\n",
        "        self.vector = vector\n",
        "\n",
        "    def __str__(self):\n",
        "        return self.text + ' : ' + str(self.vector)\n",
        "\n",
        "    def __repr__(self):\n",
        "        return self.__str__()\n",
        "\n",
        "\n",
        "# a sentence, a list of words\n",
        "class Sentence:\n",
        "    def __init__(self, word_list):\n",
        "        self.word_list = word_list\n",
        "\n",
        "    # return the length of a sentence\n",
        "    def len(self) -> int:\n",
        "        return len(self.word_list)\n",
        "\n",
        "    def __str__(self):\n",
        "        word_str_list = [word.text for word in self.word_list]\n",
        "        return ' '.join(word_str_list)\n",
        "\n",
        "    def __repr__(self):\n",
        "        return self.__str__()\n",
        "\n",
        "\n",
        "# return a typical frequency for a word from Google's n-grams\n",
        "def get_word_frequency(word_text):\n",
        "    if word_text.lower() in word_frequency:\n",
        "        return word_frequency[word_text.lower()]\n",
        "    else:\n",
        "        return avg_frequency\n",
        "\n",
        "\n",
        "# convert a list of sentence with glove vectors into a set of sentence vectors\n",
        "def sentence_to_vec(sentence_list: List[Sentence], embedding_size: int):\n",
        "    if len(sentence_list) == 0:\n",
        "        return []\n",
        "    sentence_set = []\n",
        "    delta = 0.001  # small value to avoid division by 0\n",
        "    for sentence in sentence_list:\n",
        "        vs = np.zeros(embedding_size)  # add all glove values into one vector for the sentence\n",
        "        sentence_length = 0.0\n",
        "        for word in sentence.word_list:\n",
        "            # basically the importance of a word becomes less the more frequent it is\n",
        "            a_value = delta / (delta + get_word_frequency(word.text))  # smooth inverse frequency, SIF\n",
        "            sentence_length += a_value\n",
        "            vs = np.add(vs, np.multiply(a_value, word.vector))  # vs += sif * word_vector\n",
        "\n",
        "        if sentence_length != 0.0:\n",
        "            vs = np.divide(vs, sentence_length)  # weighted average\n",
        "        sentence_set.append(vs)  # add to our existing re-calculated set of sentences\n",
        "\n",
        "    return sentence_set"
      ],
      "metadata": {
        "id": "NyRX_f0LJPZz"
      },
      "execution_count": null,
      "outputs": []
    },
    {
      "cell_type": "code",
      "source": [
        "# inner product of two vectors\n",
        "def inner_product(v1, v2):\n",
        "    if len(v1) == len(v2):\n",
        "        sum = 0.0\n",
        "        size_v1 = 0.0\n",
        "        size_v2 = 0.0\n",
        "        for i in range(len(v1)):\n",
        "            size_v1 += v1[i] * v1[i]\n",
        "            size_v2 += v2[i] * v2[i]\n",
        "            sum += v1[i] * v2[i]\n",
        "        size_v1 = math.sqrt(size_v1)\n",
        "        size_v2 = math.sqrt(size_v2)\n",
        "        size_mult = size_v1 * size_v2\n",
        "        if size_mult != 0.0:\n",
        "            return round(sum / size_mult, 4)\n",
        "    return 0.0\n",
        "\n",
        "\n",
        "glove_file = 'glove.6B.300d.txt'\n",
        "embedding_size = 300   # dimension of glove, must match glove_file size (50 = 50d, 100 = 100d, etc)\n",
        "\n",
        "# load the glove set from file\n",
        "glove_300_dict = dict()\n",
        "with open(glove_file, 'rt') as reader:\n",
        "    for line in reader:\n",
        "        line = line.strip().split(' ')\n",
        "        if len(line) == (embedding_size + 1):\n",
        "            word = line[0]\n",
        "            vector = [float(item) for item in line[1:]]\n",
        "            glove_300_dict[word] = vector"
      ],
      "metadata": {
        "id": "DdKRo8MGJWj9"
      },
      "execution_count": null,
      "outputs": []
    },
    {
      "cell_type": "code",
      "source": [
        "# d1 = pd.read_json('/content/semeval-task3-homo.json', orient='records')\n",
        "d2 = pd.read_json('/content/semeval-task3-hetero.json', orient='records')"
      ],
      "metadata": {
        "id": "Cq9JY3uKKJuc"
      },
      "execution_count": null,
      "outputs": []
    },
    {
      "cell_type": "code",
      "source": [
        "d1 = d1[['sentence']]\n",
        "d1 = d1.replace(' \\- ', '-', regex=True)\n",
        "d1 = d1.replace(' \\' ', \"'\", regex=True)\n",
        "d1 = d1.replace(' \\. ', '. ', regex=True)\n",
        "d1 = d1.replace(' \\? ', '? ', regex=True)\n",
        "d1 = d1.replace(' \\! ', '! ', regex=True)\n",
        "d1 = d1.replace(' \\, ', ', ', regex=True)\n",
        "d1.head()"
      ],
      "metadata": {
        "colab": {
          "base_uri": "https://localhost:8080/",
          "height": 204
        },
        "id": "YdhM5GetPe2K",
        "outputId": "776867ad-624a-4cd0-bb73-fec524b5ec99"
      },
      "execution_count": null,
      "outputs": [
        {
          "output_type": "execute_result",
          "data": {
            "text/plain": [
              "                                            sentence\n",
              "0             Wal-Mart isn't the only saving place !\n",
              "1     Can honeybee abuse lead to a sting operation ?\n",
              "2      A ditch digger was entrenched in his career .\n",
              "3  She was only a Blacksmith's daughter, but she ...\n",
              "4  Did you hear about the new pinata? It's a huge..."
            ],
            "text/html": [
              "\n",
              "  <div id=\"df-3f5f97fc-4c4b-4684-92ea-3e24d5a2e17d\">\n",
              "    <div class=\"colab-df-container\">\n",
              "      <div>\n",
              "<style scoped>\n",
              "    .dataframe tbody tr th:only-of-type {\n",
              "        vertical-align: middle;\n",
              "    }\n",
              "\n",
              "    .dataframe tbody tr th {\n",
              "        vertical-align: top;\n",
              "    }\n",
              "\n",
              "    .dataframe thead th {\n",
              "        text-align: right;\n",
              "    }\n",
              "</style>\n",
              "<table border=\"1\" class=\"dataframe\">\n",
              "  <thead>\n",
              "    <tr style=\"text-align: right;\">\n",
              "      <th></th>\n",
              "      <th>sentence</th>\n",
              "    </tr>\n",
              "  </thead>\n",
              "  <tbody>\n",
              "    <tr>\n",
              "      <th>0</th>\n",
              "      <td>Wal-Mart isn't the only saving place !</td>\n",
              "    </tr>\n",
              "    <tr>\n",
              "      <th>1</th>\n",
              "      <td>Can honeybee abuse lead to a sting operation ?</td>\n",
              "    </tr>\n",
              "    <tr>\n",
              "      <th>2</th>\n",
              "      <td>A ditch digger was entrenched in his career .</td>\n",
              "    </tr>\n",
              "    <tr>\n",
              "      <th>3</th>\n",
              "      <td>She was only a Blacksmith's daughter, but she ...</td>\n",
              "    </tr>\n",
              "    <tr>\n",
              "      <th>4</th>\n",
              "      <td>Did you hear about the new pinata? It's a huge...</td>\n",
              "    </tr>\n",
              "  </tbody>\n",
              "</table>\n",
              "</div>\n",
              "      <button class=\"colab-df-convert\" onclick=\"convertToInteractive('df-3f5f97fc-4c4b-4684-92ea-3e24d5a2e17d')\"\n",
              "              title=\"Convert this dataframe to an interactive table.\"\n",
              "              style=\"display:none;\">\n",
              "        \n",
              "  <svg xmlns=\"http://www.w3.org/2000/svg\" height=\"24px\"viewBox=\"0 0 24 24\"\n",
              "       width=\"24px\">\n",
              "    <path d=\"M0 0h24v24H0V0z\" fill=\"none\"/>\n",
              "    <path d=\"M18.56 5.44l.94 2.06.94-2.06 2.06-.94-2.06-.94-.94-2.06-.94 2.06-2.06.94zm-11 1L8.5 8.5l.94-2.06 2.06-.94-2.06-.94L8.5 2.5l-.94 2.06-2.06.94zm10 10l.94 2.06.94-2.06 2.06-.94-2.06-.94-.94-2.06-.94 2.06-2.06.94z\"/><path d=\"M17.41 7.96l-1.37-1.37c-.4-.4-.92-.59-1.43-.59-.52 0-1.04.2-1.43.59L10.3 9.45l-7.72 7.72c-.78.78-.78 2.05 0 2.83L4 21.41c.39.39.9.59 1.41.59.51 0 1.02-.2 1.41-.59l7.78-7.78 2.81-2.81c.8-.78.8-2.07 0-2.86zM5.41 20L4 18.59l7.72-7.72 1.47 1.35L5.41 20z\"/>\n",
              "  </svg>\n",
              "      </button>\n",
              "      \n",
              "  <style>\n",
              "    .colab-df-container {\n",
              "      display:flex;\n",
              "      flex-wrap:wrap;\n",
              "      gap: 12px;\n",
              "    }\n",
              "\n",
              "    .colab-df-convert {\n",
              "      background-color: #E8F0FE;\n",
              "      border: none;\n",
              "      border-radius: 50%;\n",
              "      cursor: pointer;\n",
              "      display: none;\n",
              "      fill: #1967D2;\n",
              "      height: 32px;\n",
              "      padding: 0 0 0 0;\n",
              "      width: 32px;\n",
              "    }\n",
              "\n",
              "    .colab-df-convert:hover {\n",
              "      background-color: #E2EBFA;\n",
              "      box-shadow: 0px 1px 2px rgba(60, 64, 67, 0.3), 0px 1px 3px 1px rgba(60, 64, 67, 0.15);\n",
              "      fill: #174EA6;\n",
              "    }\n",
              "\n",
              "    [theme=dark] .colab-df-convert {\n",
              "      background-color: #3B4455;\n",
              "      fill: #D2E3FC;\n",
              "    }\n",
              "\n",
              "    [theme=dark] .colab-df-convert:hover {\n",
              "      background-color: #434B5C;\n",
              "      box-shadow: 0px 1px 3px 1px rgba(0, 0, 0, 0.15);\n",
              "      filter: drop-shadow(0px 1px 2px rgba(0, 0, 0, 0.3));\n",
              "      fill: #FFFFFF;\n",
              "    }\n",
              "  </style>\n",
              "\n",
              "      <script>\n",
              "        const buttonEl =\n",
              "          document.querySelector('#df-3f5f97fc-4c4b-4684-92ea-3e24d5a2e17d button.colab-df-convert');\n",
              "        buttonEl.style.display =\n",
              "          google.colab.kernel.accessAllowed ? 'block' : 'none';\n",
              "\n",
              "        async function convertToInteractive(key) {\n",
              "          const element = document.querySelector('#df-3f5f97fc-4c4b-4684-92ea-3e24d5a2e17d');\n",
              "          const dataTable =\n",
              "            await google.colab.kernel.invokeFunction('convertToInteractive',\n",
              "                                                     [key], {});\n",
              "          if (!dataTable) return;\n",
              "\n",
              "          const docLinkHtml = 'Like what you see? Visit the ' +\n",
              "            '<a target=\"_blank\" href=https://colab.research.google.com/notebooks/data_table.ipynb>data table notebook</a>'\n",
              "            + ' to learn more about interactive tables.';\n",
              "          element.innerHTML = '';\n",
              "          dataTable['output_type'] = 'display_data';\n",
              "          await google.colab.output.renderOutput(dataTable, element);\n",
              "          const docLink = document.createElement('div');\n",
              "          docLink.innerHTML = docLinkHtml;\n",
              "          element.appendChild(docLink);\n",
              "        }\n",
              "      </script>\n",
              "    </div>\n",
              "  </div>\n",
              "  "
            ]
          },
          "metadata": {},
          "execution_count": 60
        }
      ]
    },
    {
      "cell_type": "code",
      "source": [
        "d2 = d2[['sentence']]\n",
        "d2 = d2.replace(' \\- ', '-', regex=True)\n",
        "d2 = d2.replace(' \\' ', \"'\", regex=True)\n",
        "d2 = d2.replace(' \\. ', '. ', regex=True)\n",
        "d2 = d2.replace(' \\? ', '? ', regex=True)\n",
        "d2 = d2.replace(' \\! ', '! ', regex=True)\n",
        "d2 = d2.replace(' \\, ', ', ', regex=True)\n",
        "d2.head()"
      ],
      "metadata": {
        "colab": {
          "base_uri": "https://localhost:8080/",
          "height": 204
        },
        "id": "gWF09kWLPhvZ",
        "outputId": "6d19c0ca-6110-43a4-b919-1d823bdb17a9"
      },
      "execution_count": null,
      "outputs": [
        {
          "output_type": "execute_result",
          "data": {
            "text/plain": [
              "                                            sentence\n",
              "0      ''I'm halfway up a mountain ,'' Tom alleged .\n",
              "1  I'd like to be a Chinese laborer, said Tom coo...\n",
              "2    Dentists don't like a hard day at the orifice .\n",
              "3                    Are evil wildebeests bad gnus ?\n",
              "4                   A busy barber is quite harried ."
            ],
            "text/html": [
              "\n",
              "  <div id=\"df-ca89c98c-ae92-428a-9f46-9e749ff386aa\">\n",
              "    <div class=\"colab-df-container\">\n",
              "      <div>\n",
              "<style scoped>\n",
              "    .dataframe tbody tr th:only-of-type {\n",
              "        vertical-align: middle;\n",
              "    }\n",
              "\n",
              "    .dataframe tbody tr th {\n",
              "        vertical-align: top;\n",
              "    }\n",
              "\n",
              "    .dataframe thead th {\n",
              "        text-align: right;\n",
              "    }\n",
              "</style>\n",
              "<table border=\"1\" class=\"dataframe\">\n",
              "  <thead>\n",
              "    <tr style=\"text-align: right;\">\n",
              "      <th></th>\n",
              "      <th>sentence</th>\n",
              "    </tr>\n",
              "  </thead>\n",
              "  <tbody>\n",
              "    <tr>\n",
              "      <th>0</th>\n",
              "      <td>''I'm halfway up a mountain ,'' Tom alleged .</td>\n",
              "    </tr>\n",
              "    <tr>\n",
              "      <th>1</th>\n",
              "      <td>I'd like to be a Chinese laborer, said Tom coo...</td>\n",
              "    </tr>\n",
              "    <tr>\n",
              "      <th>2</th>\n",
              "      <td>Dentists don't like a hard day at the orifice .</td>\n",
              "    </tr>\n",
              "    <tr>\n",
              "      <th>3</th>\n",
              "      <td>Are evil wildebeests bad gnus ?</td>\n",
              "    </tr>\n",
              "    <tr>\n",
              "      <th>4</th>\n",
              "      <td>A busy barber is quite harried .</td>\n",
              "    </tr>\n",
              "  </tbody>\n",
              "</table>\n",
              "</div>\n",
              "      <button class=\"colab-df-convert\" onclick=\"convertToInteractive('df-ca89c98c-ae92-428a-9f46-9e749ff386aa')\"\n",
              "              title=\"Convert this dataframe to an interactive table.\"\n",
              "              style=\"display:none;\">\n",
              "        \n",
              "  <svg xmlns=\"http://www.w3.org/2000/svg\" height=\"24px\"viewBox=\"0 0 24 24\"\n",
              "       width=\"24px\">\n",
              "    <path d=\"M0 0h24v24H0V0z\" fill=\"none\"/>\n",
              "    <path d=\"M18.56 5.44l.94 2.06.94-2.06 2.06-.94-2.06-.94-.94-2.06-.94 2.06-2.06.94zm-11 1L8.5 8.5l.94-2.06 2.06-.94-2.06-.94L8.5 2.5l-.94 2.06-2.06.94zm10 10l.94 2.06.94-2.06 2.06-.94-2.06-.94-.94-2.06-.94 2.06-2.06.94z\"/><path d=\"M17.41 7.96l-1.37-1.37c-.4-.4-.92-.59-1.43-.59-.52 0-1.04.2-1.43.59L10.3 9.45l-7.72 7.72c-.78.78-.78 2.05 0 2.83L4 21.41c.39.39.9.59 1.41.59.51 0 1.02-.2 1.41-.59l7.78-7.78 2.81-2.81c.8-.78.8-2.07 0-2.86zM5.41 20L4 18.59l7.72-7.72 1.47 1.35L5.41 20z\"/>\n",
              "  </svg>\n",
              "      </button>\n",
              "      \n",
              "  <style>\n",
              "    .colab-df-container {\n",
              "      display:flex;\n",
              "      flex-wrap:wrap;\n",
              "      gap: 12px;\n",
              "    }\n",
              "\n",
              "    .colab-df-convert {\n",
              "      background-color: #E8F0FE;\n",
              "      border: none;\n",
              "      border-radius: 50%;\n",
              "      cursor: pointer;\n",
              "      display: none;\n",
              "      fill: #1967D2;\n",
              "      height: 32px;\n",
              "      padding: 0 0 0 0;\n",
              "      width: 32px;\n",
              "    }\n",
              "\n",
              "    .colab-df-convert:hover {\n",
              "      background-color: #E2EBFA;\n",
              "      box-shadow: 0px 1px 2px rgba(60, 64, 67, 0.3), 0px 1px 3px 1px rgba(60, 64, 67, 0.15);\n",
              "      fill: #174EA6;\n",
              "    }\n",
              "\n",
              "    [theme=dark] .colab-df-convert {\n",
              "      background-color: #3B4455;\n",
              "      fill: #D2E3FC;\n",
              "    }\n",
              "\n",
              "    [theme=dark] .colab-df-convert:hover {\n",
              "      background-color: #434B5C;\n",
              "      box-shadow: 0px 1px 3px 1px rgba(0, 0, 0, 0.15);\n",
              "      filter: drop-shadow(0px 1px 2px rgba(0, 0, 0, 0.3));\n",
              "      fill: #FFFFFF;\n",
              "    }\n",
              "  </style>\n",
              "\n",
              "      <script>\n",
              "        const buttonEl =\n",
              "          document.querySelector('#df-ca89c98c-ae92-428a-9f46-9e749ff386aa button.colab-df-convert');\n",
              "        buttonEl.style.display =\n",
              "          google.colab.kernel.accessAllowed ? 'block' : 'none';\n",
              "\n",
              "        async function convertToInteractive(key) {\n",
              "          const element = document.querySelector('#df-ca89c98c-ae92-428a-9f46-9e749ff386aa');\n",
              "          const dataTable =\n",
              "            await google.colab.kernel.invokeFunction('convertToInteractive',\n",
              "                                                     [key], {});\n",
              "          if (!dataTable) return;\n",
              "\n",
              "          const docLinkHtml = 'Like what you see? Visit the ' +\n",
              "            '<a target=\"_blank\" href=https://colab.research.google.com/notebooks/data_table.ipynb>data table notebook</a>'\n",
              "            + ' to learn more about interactive tables.';\n",
              "          element.innerHTML = '';\n",
              "          dataTable['output_type'] = 'display_data';\n",
              "          await google.colab.output.renderOutput(dataTable, element);\n",
              "          const docLink = document.createElement('div');\n",
              "          docLink.innerHTML = docLinkHtml;\n",
              "          element.appendChild(docLink);\n",
              "        }\n",
              "      </script>\n",
              "    </div>\n",
              "  </div>\n",
              "  "
            ]
          },
          "metadata": {},
          "execution_count": 8
        }
      ]
    },
    {
      "cell_type": "code",
      "source": [
        "df = pd.concat([d2])\n",
        "df.info()"
      ],
      "metadata": {
        "colab": {
          "base_uri": "https://localhost:8080/"
        },
        "id": "31XxTWkGSQKA",
        "outputId": "3c3f11d9-4275-49a5-abaf-d8e53501f143"
      },
      "execution_count": null,
      "outputs": [
        {
          "output_type": "stream",
          "name": "stdout",
          "text": [
            "<class 'pandas.core.frame.DataFrame'>\n",
            "RangeIndex: 1098 entries, 0 to 1097\n",
            "Data columns (total 1 columns):\n",
            " #   Column    Non-Null Count  Dtype \n",
            "---  ------    --------------  ----- \n",
            " 0   sentence  1098 non-null   object\n",
            "dtypes: object(1)\n",
            "memory usage: 8.7+ KB\n"
          ]
        }
      ]
    },
    {
      "cell_type": "code",
      "source": [
        "df.to_json('semeval-clean.json', orient='records')"
      ],
      "metadata": {
        "id": "QeOcJERgd-9A"
      },
      "execution_count": null,
      "outputs": []
    },
    {
      "cell_type": "code",
      "source": [
        "df = pd.read_json('semeval-clean.json', orient='records')"
      ],
      "metadata": {
        "id": "nxMf36yc1K3K"
      },
      "execution_count": null,
      "outputs": []
    },
    {
      "cell_type": "code",
      "source": [
        "data = df['sentence'].tolist()\n",
        "len(data)"
      ],
      "metadata": {
        "colab": {
          "base_uri": "https://localhost:8080/"
        },
        "id": "gLGVuZt2Sm3P",
        "outputId": "c9d45124-c088-44bf-e207-078a69e0b5b2"
      },
      "execution_count": null,
      "outputs": [
        {
          "output_type": "execute_result",
          "data": {
            "text/plain": [
              "1098"
            ]
          },
          "metadata": {},
          "execution_count": 10
        }
      ]
    },
    {
      "cell_type": "code",
      "source": [
        "sentences = data"
      ],
      "metadata": {
        "id": "YIaAox0wS4fE"
      },
      "execution_count": null,
      "outputs": []
    },
    {
      "cell_type": "code",
      "source": [
        "# convert the above sentences to vectors using spacy's large model vectors\n",
        "sentence_list = []\n",
        "for sentence in sentences:\n",
        "    word_list = []\n",
        "    for word in sentence.split(' '):\n",
        "        if word.lower() in glove_300_dict:  # ignore OOVs\n",
        "            word_list.append(Word(word, glove_300_dict[word.lower()]))\n",
        "    if len(word_list) > 0:  # did we find any words (not an empty set)\n",
        "        sentence_list.append(Sentence(word_list))\n",
        "\n",
        "# apply single sentence word embedding\n",
        "sentence_vector_lookup = dict()\n",
        "sentence_vectors = sentence_to_vec(sentence_list, embedding_size)  # all vectors converted together\n",
        "if len(sentence_vectors) == len(sentence_list):\n",
        "    for i in range(len(sentence_vectors)):\n",
        "        # map: text of the sentence -> vector\n",
        "        sentence_vector_lookup[sentence_list[i]] = sentence_vectors[i]"
      ],
      "metadata": {
        "id": "mJGdMuyBJ5MW"
      },
      "execution_count": null,
      "outputs": []
    },
    {
      "cell_type": "code",
      "source": [
        "print(list(sentence_vector_lookup.keys())[0])\n",
        "print(list(sentence_vector_lookup.values())[0])"
      ],
      "metadata": {
        "id": "nzumQeaYTQhT"
      },
      "execution_count": null,
      "outputs": []
    },
    {
      "cell_type": "code",
      "source": [
        "dbfile = open('semeval-sent-vectors-hetero.pkl', 'ab')\n",
        "pickle.dump(sentence_vector_lookup, dbfile)                     \n",
        "dbfile.close()"
      ],
      "metadata": {
        "id": "3neohhSPUJ_x"
      },
      "execution_count": null,
      "outputs": []
    },
    {
      "cell_type": "code",
      "source": [
        "dbfile_read = open('semeval-sent-vectors-hetero.pkl', 'rb')     \n",
        "puns = pickle.load(dbfile_read)\n",
        "dbfile_read.close()"
      ],
      "metadata": {
        "id": "mw44duDIUiSo"
      },
      "execution_count": null,
      "outputs": []
    },
    {
      "cell_type": "code",
      "source": [
        "word = 'poison'"
      ],
      "metadata": {
        "id": "eSPRF_0eVG0d"
      },
      "execution_count": null,
      "outputs": []
    },
    {
      "cell_type": "code",
      "source": [
        "best_match = ''\n",
        "best_score = 0.0\n",
        "for text, vector in puns.items():\n",
        "    match = inner_product(vector, glove_300_dict[word.lower()])\n",
        "    if match > best_score:\n",
        "        best_score = match\n",
        "        best_match = text\n",
        "print(\"best match \\\"{}\\\" => \\\"{}\\\" (score {})\".format(word, best_match, str(best_score)))"
      ],
      "metadata": {
        "colab": {
          "base_uri": "https://localhost:8080/"
        },
        "id": "SKZZsq56U2tP",
        "outputId": "89fc7920-fcf7-4b23-848c-32dc185132cf"
      },
      "execution_count": null,
      "outputs": [
        {
          "output_type": "stream",
          "name": "stdout",
          "text": [
            "best match \"poison\" => \"The Chinese chef maliciously dumped a hot broth with dumplings on an obnoxious It was a wanton soup attack .\" (score 0.3155)\n"
          ]
        }
      ]
    },
    {
      "cell_type": "code",
      "source": [
        "score_list = []\n",
        "pun_list = []\n",
        "pun_return_list = []\n",
        "for text, vector in puns.items():\n",
        "    score = inner_product(vector, glove_300_dict[word.lower()])\n",
        "    score_list.append(score)\n",
        "    pun_list.append(text)\n",
        "score_np = np.array(score_list)\n",
        "idxs = np.argpartition(score_np, -5)[-5:]\n",
        "idxs = idxs[np.argsort([score_list[int(idx)] for idx in idxs])]\n",
        "for idx in idxs:\n",
        "  pun_return_list.append(pun_list[int(idx)])\n",
        "pun_return_list.reverse()\n",
        "print(pun_return_list)"
      ],
      "metadata": {
        "colab": {
          "base_uri": "https://localhost:8080/"
        },
        "id": "T1Iwb-hezqxF",
        "outputId": "6c91453f-0a48-4f8e-9aab-e7f6abc42842"
      },
      "execution_count": null,
      "outputs": [
        {
          "output_type": "stream",
          "name": "stdout",
          "text": [
            "[The Chinese chef maliciously dumped a hot broth with dumplings on an obnoxious It was a wanton soup attack ., Exposure to the Son may prevent burning, Upon discovering the deadly virus carried by Surinamese the herpetologist contemplated how best to protect the pipal ., Drinking too much of a certain potent potable may require a leave of absinthe ., Exposure to the Son prevents burning]\n"
          ]
        }
      ]
    }
  ]
}