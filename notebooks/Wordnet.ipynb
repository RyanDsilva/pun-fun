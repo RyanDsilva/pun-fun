{
  "nbformat": 4,
  "nbformat_minor": 0,
  "metadata": {
    "colab": {
      "provenance": []
    },
    "kernelspec": {
      "name": "python3",
      "display_name": "Python 3"
    },
    "language_info": {
      "name": "python"
    }
  },
  "cells": [
    {
      "cell_type": "code",
      "source": [
        "!pip install transformers[sentencepiece]"
      ],
      "metadata": {
        "colab": {
          "base_uri": "https://localhost:8080/"
        },
        "id": "448ZsZ8t3lek",
        "outputId": "e884d9bb-8dac-4303-b803-21b134b4ef1b"
      },
      "execution_count": null,
      "outputs": [
        {
          "output_type": "stream",
          "name": "stdout",
          "text": [
            "Looking in indexes: https://pypi.org/simple, https://us-python.pkg.dev/colab-wheels/public/simple/\n",
            "Requirement already satisfied: transformers[sentencepiece] in /usr/local/lib/python3.7/dist-packages (4.22.2)\n",
            "Requirement already satisfied: packaging>=20.0 in /usr/local/lib/python3.7/dist-packages (from transformers[sentencepiece]) (21.3)\n",
            "Requirement already satisfied: requests in /usr/local/lib/python3.7/dist-packages (from transformers[sentencepiece]) (2.23.0)\n",
            "Requirement already satisfied: numpy>=1.17 in /usr/local/lib/python3.7/dist-packages (from transformers[sentencepiece]) (1.21.6)\n",
            "Requirement already satisfied: regex!=2019.12.17 in /usr/local/lib/python3.7/dist-packages (from transformers[sentencepiece]) (2022.6.2)\n",
            "Requirement already satisfied: importlib-metadata in /usr/local/lib/python3.7/dist-packages (from transformers[sentencepiece]) (4.12.0)\n",
            "Requirement already satisfied: huggingface-hub<1.0,>=0.9.0 in /usr/local/lib/python3.7/dist-packages (from transformers[sentencepiece]) (0.10.0)\n",
            "Requirement already satisfied: tqdm>=4.27 in /usr/local/lib/python3.7/dist-packages (from transformers[sentencepiece]) (4.64.1)\n",
            "Requirement already satisfied: pyyaml>=5.1 in /usr/local/lib/python3.7/dist-packages (from transformers[sentencepiece]) (6.0)\n",
            "Requirement already satisfied: filelock in /usr/local/lib/python3.7/dist-packages (from transformers[sentencepiece]) (3.8.0)\n",
            "Requirement already satisfied: tokenizers!=0.11.3,<0.13,>=0.11.1 in /usr/local/lib/python3.7/dist-packages (from transformers[sentencepiece]) (0.12.1)\n",
            "Requirement already satisfied: sentencepiece!=0.1.92,>=0.1.91 in /usr/local/lib/python3.7/dist-packages (from transformers[sentencepiece]) (0.1.97)\n",
            "Requirement already satisfied: protobuf<=3.20.1 in /usr/local/lib/python3.7/dist-packages (from transformers[sentencepiece]) (3.17.3)\n",
            "Requirement already satisfied: typing-extensions>=3.7.4.3 in /usr/local/lib/python3.7/dist-packages (from huggingface-hub<1.0,>=0.9.0->transformers[sentencepiece]) (4.1.1)\n",
            "Requirement already satisfied: pyparsing!=3.0.5,>=2.0.2 in /usr/local/lib/python3.7/dist-packages (from packaging>=20.0->transformers[sentencepiece]) (3.0.9)\n",
            "Requirement already satisfied: six>=1.9 in /usr/local/lib/python3.7/dist-packages (from protobuf<=3.20.1->transformers[sentencepiece]) (1.15.0)\n",
            "Requirement already satisfied: zipp>=0.5 in /usr/local/lib/python3.7/dist-packages (from importlib-metadata->transformers[sentencepiece]) (3.8.1)\n",
            "Requirement already satisfied: chardet<4,>=3.0.2 in /usr/local/lib/python3.7/dist-packages (from requests->transformers[sentencepiece]) (3.0.4)\n",
            "Requirement already satisfied: idna<3,>=2.5 in /usr/local/lib/python3.7/dist-packages (from requests->transformers[sentencepiece]) (2.10)\n",
            "Requirement already satisfied: certifi>=2017.4.17 in /usr/local/lib/python3.7/dist-packages (from requests->transformers[sentencepiece]) (2022.6.15)\n",
            "Requirement already satisfied: urllib3!=1.25.0,!=1.25.1,<1.26,>=1.21.1 in /usr/local/lib/python3.7/dist-packages (from requests->transformers[sentencepiece]) (1.24.3)\n"
          ]
        }
      ]
    },
    {
      "cell_type": "code",
      "source": [
        "import nltk\n",
        "import string\n",
        "import re\n",
        "from nltk.corpus import wordnet as wn\n",
        "from nltk.stem import WordNetLemmatizer\n",
        "from transformers import AutoTokenizer, AutoModelForSeq2SeqLM, Text2TextGenerationPipeline\n",
        "import sentencepiece\n",
        "\n",
        "nltk.download('wordnet')\n",
        "nltk.download('omw-1.4')\n",
        "nltk.download('stopwords')"
      ],
      "metadata": {
        "colab": {
          "base_uri": "https://localhost:8080/"
        },
        "id": "8E6PHT99tk7r",
        "outputId": "eb680fa6-2015-43b5-a7e6-8b6b8f55f31e"
      },
      "execution_count": null,
      "outputs": [
        {
          "output_type": "stream",
          "name": "stderr",
          "text": [
            "[nltk_data] Downloading package wordnet to /root/nltk_data...\n",
            "[nltk_data]   Package wordnet is already up-to-date!\n",
            "[nltk_data] Downloading package omw-1.4 to /root/nltk_data...\n",
            "[nltk_data]   Package omw-1.4 is already up-to-date!\n",
            "[nltk_data] Downloading package stopwords to /root/nltk_data...\n",
            "[nltk_data]   Package stopwords is already up-to-date!\n"
          ]
        },
        {
          "output_type": "execute_result",
          "data": {
            "text/plain": [
              "True"
            ]
          },
          "metadata": {},
          "execution_count": 3
        }
      ]
    },
    {
      "cell_type": "code",
      "source": [
        "stopwords = nltk.corpus.stopwords.words('english')"
      ],
      "metadata": {
        "id": "4_2qCzSsww-T"
      },
      "execution_count": null,
      "outputs": []
    },
    {
      "cell_type": "code",
      "source": [
        "def remove_punctuation(text):\n",
        "    pf = \"\".join([i for i in text if i not in string.punctuation])\n",
        "    return pf\n",
        "\n",
        "def turn_to_lowercase(text):\n",
        "  return text.lower()\n",
        "\n",
        "wordnet_lemmatizer = WordNetLemmatizer()\n",
        "def lemmatizer(text):\n",
        "  lemm_text = \"\".join([wordnet_lemmatizer.lemmatize(word) for word in text])\n",
        "  return lemm_text\n",
        "\n",
        "def tokenization(text):\n",
        "    return text.split(\" \")\n",
        "\n",
        "def remove_stopwords(wordList):\n",
        "    output = [w for w in wordList if w not in stopwords]\n",
        "    return output"
      ],
      "metadata": {
        "id": "XSfkkyAZvREH"
      },
      "execution_count": null,
      "outputs": []
    },
    {
      "cell_type": "code",
      "source": [
        "sentence = \"I would avoid the sushi if I was you. It is a little fishy.\""
      ],
      "metadata": {
        "id": "AXwDaUGIuyjf"
      },
      "execution_count": null,
      "outputs": []
    },
    {
      "cell_type": "code",
      "source": [
        "s_transformed = remove_stopwords(tokenization(lemmatizer(turn_to_lowercase(remove_punctuation(sentence)))))\n",
        "s_transformed"
      ],
      "metadata": {
        "colab": {
          "base_uri": "https://localhost:8080/"
        },
        "id": "wI4wmbP8xdqt",
        "outputId": "fc04e96c-d9fa-4ae7-d91d-3aa5829466cf"
      },
      "execution_count": null,
      "outputs": [
        {
          "output_type": "execute_result",
          "data": {
            "text/plain": [
              "['would', 'avoid', 'sushi', 'little', 'fishy']"
            ]
          },
          "metadata": {},
          "execution_count": 7
        }
      ]
    },
    {
      "cell_type": "code",
      "source": [
        "matches = []\n",
        "for w in s_transformed:\n",
        "  if len(wn.synsets(w)) > 1:\n",
        "    matches.append(w)\n",
        "matches"
      ],
      "metadata": {
        "colab": {
          "base_uri": "https://localhost:8080/"
        },
        "id": "DzaZsNi-tdrb",
        "outputId": "5e2b4091-2bc0-48c1-dc7a-d69b73743b88"
      },
      "execution_count": null,
      "outputs": [
        {
          "output_type": "execute_result",
          "data": {
            "text/plain": [
              "['avoid', 'little', 'fishy']"
            ]
          },
          "metadata": {},
          "execution_count": 8
        }
      ]
    },
    {
      "cell_type": "code",
      "source": [
        "for w in matches:\n",
        "  print(f\"{w.capitalize()}\")\n",
        "  for s in wn.synsets(w):\n",
        "    print(s, \": \", s.definition(), end=\"\\n\")\n",
        "  print(\"\\n\")"
      ],
      "metadata": {
        "colab": {
          "base_uri": "https://localhost:8080/"
        },
        "id": "pkfz5i5o0hTj",
        "outputId": "30d91cc1-200a-4ab1-f335-b6085ee26d14"
      },
      "execution_count": null,
      "outputs": [
        {
          "output_type": "stream",
          "name": "stdout",
          "text": [
            "Avoid\n",
            "Synset('avoid.v.01') :  stay clear from; keep away from; keep out of the way of someone or something\n",
            "Synset('debar.v.02') :  prevent the occurrence of; prevent from happening\n",
            "Synset('avoid.v.03') :  refrain from doing something\n",
            "Synset('keep_off.v.01') :  refrain from certain foods or beverages\n",
            "Synset('invalidate.v.01') :  declare invalid\n",
            "\n",
            "\n",
            "Little\n",
            "Synset('little.n.01') :  a small amount or duration\n",
            "Synset('small.a.01') :  limited or below average in number or quantity or magnitude or extent\n",
            "Synset('little.a.02') :  (quantifier used with mass nouns) small in quantity or degree; not much or almost none or (with `a') at least some\n",
            "Synset('little.s.03') :  (of children and animals) young, immature\n",
            "Synset('fiddling.s.01') :  (informal) small and of little importance\n",
            "Synset('little.s.05') :  (of a voice) faint\n",
            "Synset('short.a.03') :  low in stature; not tall\n",
            "Synset('little.s.07') :  lowercase\n",
            "Synset('little.s.08') :  small in a way that arouses feelings (of tenderness or its opposite depending on the context)\n",
            "Synset('little.r.01') :  not much\n",
            "\n",
            "\n",
            "Fishy\n",
            "Synset('fishy.a.01') :  of or relating to or resembling fish\n",
            "Synset('fishy.s.02') :  not as expected\n",
            "\n",
            "\n"
          ]
        }
      ]
    },
    {
      "cell_type": "code",
      "source": [
        "pipe = Text2TextGenerationPipeline(\n",
        "    model = AutoModelForSeq2SeqLM.from_pretrained(\"jpwahle/t5-word-sense-disambiguation\"),\n",
        "    tokenizer = AutoTokenizer.from_pretrained(\"jpwahle/t5-word-sense-disambiguation\"))"
      ],
      "metadata": {
        "id": "x46pLDxX3fR1"
      },
      "execution_count": null,
      "outputs": []
    },
    {
      "cell_type": "code",
      "source": [
        "def wsd(word, context, descriptions):\n",
        "  question = 'question: which description describes the word' + ' \" ' + word + ' \" '\n",
        "  _d = \", \".join(str(f'\" {n} \"') for n in descriptions)\n",
        "  descriptions_context = f'best in the following context? \\descriptions:[ {_d} ] context: ' + context + \"'\"\n",
        "  raw_input = question + descriptions_context\n",
        "  output = pipe(raw_input)[0]['generated_text']\n",
        "  return output"
      ],
      "metadata": {
        "id": "uLEYeh6Z8Zvb"
      },
      "execution_count": null,
      "outputs": []
    },
    {
      "cell_type": "code",
      "source": [
        "wsd(\n",
        "    'fishy',\n",
        "    'I would avoid the sushi if I were you. It is a little fishy.', \n",
        "    [\n",
        "      'of or relating to or resembling fish',\n",
        "      'not as expected'\n",
        "    ]\n",
        ")"
      ],
      "metadata": {
        "colab": {
          "base_uri": "https://localhost:8080/",
          "height": 37
        },
        "id": "PpuEeL8k9FVC",
        "outputId": "fc9b5bac-45a7-447a-c791-79be42c4a0b1"
      },
      "execution_count": null,
      "outputs": [
        {
          "output_type": "execute_result",
          "data": {
            "text/plain": [
              "'of or relating to or resembling fish'"
            ],
            "application/vnd.google.colaboratory.intrinsic+json": {
              "type": "string"
            }
          },
          "metadata": {},
          "execution_count": 40
        }
      ]
    },
    {
      "cell_type": "code",
      "source": [
        "for w in matches:\n",
        "  print(f\"{w.capitalize()}\")\n",
        "  des = []\n",
        "  for s in wn.synsets(w):\n",
        "    des.append(s.definition())\n",
        "  print(wsd(w, sentence, des))\n",
        "  print(\"\\n\")"
      ],
      "metadata": {
        "colab": {
          "base_uri": "https://localhost:8080/"
        },
        "id": "au083_HYZF_D",
        "outputId": "97fecfe8-0c28-4aaa-e1f3-a80b22c0c062"
      },
      "execution_count": null,
      "outputs": [
        {
          "output_type": "stream",
          "name": "stdout",
          "text": [
            "Avoid\n",
            "refrain from certain foods or beverages\n",
            "\n",
            "\n",
            "Little\n",
            "limited or below average in number or quantity or magnitude or extent\n",
            "\n",
            "\n",
            "Fishy\n",
            "of or relating to or resembling fish\n",
            "\n",
            "\n"
          ]
        }
      ]
    },
    {
      "cell_type": "markdown",
      "source": [
        "# Demo"
      ],
      "metadata": {
        "id": "Ou-aZXPeZ2B0"
      }
    },
    {
      "cell_type": "code",
      "source": [
        "demo_sent = input('Enter a sentence: ')"
      ],
      "metadata": {
        "colab": {
          "base_uri": "https://localhost:8080/"
        },
        "id": "cO42qwOAZ3oB",
        "outputId": "1b298959-6b7c-493d-8bba-333738c545c5"
      },
      "execution_count": null,
      "outputs": [
        {
          "name": "stdout",
          "output_type": "stream",
          "text": [
            "Enter a sentence: How did the picture end up in jail? It was framed!\n"
          ]
        }
      ]
    },
    {
      "cell_type": "code",
      "source": [
        "demo_sent_clean = remove_stopwords(tokenization(lemmatizer(turn_to_lowercase(remove_punctuation(demo_sent)))))\n",
        "demo_sent_clean"
      ],
      "metadata": {
        "colab": {
          "base_uri": "https://localhost:8080/"
        },
        "id": "z7ACrDjlaEVZ",
        "outputId": "4640f7bf-b6f2-4ea7-cb79-ddada21755a8"
      },
      "execution_count": null,
      "outputs": [
        {
          "output_type": "execute_result",
          "data": {
            "text/plain": [
              "['picture', 'end', 'jail', 'framed']"
            ]
          },
          "metadata": {},
          "execution_count": 36
        }
      ]
    },
    {
      "cell_type": "code",
      "source": [
        "demo_matches = []\n",
        "for w in demo_sent_clean:\n",
        "  if len(wn.synsets(w)) > 1:\n",
        "    demo_matches.append(w)\n",
        "demo_matches"
      ],
      "metadata": {
        "colab": {
          "base_uri": "https://localhost:8080/"
        },
        "id": "wC8_ou5WaNtc",
        "outputId": "753b4741-ad69-4ed2-86c6-8c1c7a4e33ae"
      },
      "execution_count": null,
      "outputs": [
        {
          "output_type": "execute_result",
          "data": {
            "text/plain": [
              "['picture', 'end', 'jail', 'framed']"
            ]
          },
          "metadata": {},
          "execution_count": 37
        }
      ]
    },
    {
      "cell_type": "code",
      "source": [
        "for w in demo_matches:\n",
        "  print(f\"{w.capitalize()}\")\n",
        "  for s in wn.synsets(w):\n",
        "    print(s, \": \", s.definition(), end=\"\\n\")\n",
        "  print(\"\\n\")"
      ],
      "metadata": {
        "colab": {
          "base_uri": "https://localhost:8080/"
        },
        "id": "2m8VtIflaY5Q",
        "outputId": "30e68606-36ad-4f4c-8b79-631e587054b0"
      },
      "execution_count": null,
      "outputs": [
        {
          "output_type": "stream",
          "name": "stdout",
          "text": [
            "Picture\n",
            "Synset('picture.n.01') :  a visual representation (of an object or scene or person or abstraction) produced on a surface\n",
            "Synset('painting.n.01') :  graphic art consisting of an artistic composition made by applying paints to a surface\n",
            "Synset('mental_picture.n.01') :  a clear and telling mental image\n",
            "Synset('picture.n.04') :  a situation treated as an observable object\n",
            "Synset('picture.n.05') :  illustrations used to decorate or explain a text\n",
            "Synset('movie.n.01') :  a form of entertainment that enacts a story by sound and a sequence of images giving the illusion of continuous movement\n",
            "Synset('video.n.01') :  the visible part of a television transmission\n",
            "Synset('word_picture.n.01') :  a graphic or vivid verbal description\n",
            "Synset('picture.n.09') :  a typical example of some state or quality\n",
            "Synset('photograph.n.01') :  a representation of a person or scene in the form of a print or transparent slide; recorded by a camera on light-sensitive material\n",
            "Synset('visualize.v.01') :  imagine; conceive of; see in one's mind\n",
            "Synset('picture.v.02') :  show in, or as in, a picture\n",
            "\n",
            "\n",
            "End\n",
            "Synset('end.n.01') :  either extremity of something that has length\n",
            "Synset('end.n.02') :  the point in time at which something ends\n",
            "Synset('end.n.03') :  the concluding parts of an event or occurrence\n",
            "Synset('goal.n.01') :  the state of affairs that a plan is intended to achieve and that (when achieved) terminates behavior intended to achieve it\n",
            "Synset('end.n.05') :  a final part or section\n",
            "Synset('end.n.06') :  a final state\n",
            "Synset('end.n.07') :  the surface at either extremity of a three-dimensional object\n",
            "Synset('end.n.08') :  (football) the person who plays at one end of the line of scrimmage\n",
            "Synset('end.n.09') :  a boundary marking the extremities of something\n",
            "Synset('end.n.10') :  one of two places from which people are communicating to each other\n",
            "Synset('end.n.11') :  the part you are expected to play\n",
            "Synset('conclusion.n.08') :  the last section of a communication\n",
            "Synset('end.n.13') :  a piece of cloth that is left over after the rest has been used or sold\n",
            "Synset('end.n.14') :  (American football) a position on the line of scrimmage\n",
            "Synset('end.v.01') :  have an end, in a temporal, spatial, or quantitative sense; either spatial or metaphorical\n",
            "Synset('end.v.02') :  bring to an end or halt\n",
            "Synset('end.v.03') :  be the end of; be the last or concluding part of\n",
            "Synset('end.v.04') :  put an end to\n",
            "\n",
            "\n",
            "Jail\n",
            "Synset('jail.n.01') :  a correctional institution used to detain persons who are in the lawful custody of the government (either accused persons awaiting trial or convicted persons serving a sentence)\n",
            "Synset('imprison.v.01') :  lock up or confine, in or as in a jail\n",
            "\n",
            "\n",
            "Framed\n",
            "Synset('frame.v.01') :  enclose in or as if in a frame\n",
            "Synset('frame.v.02') :  enclose in a frame, as of a picture\n",
            "Synset('ensnare.v.01') :  take or catch as if in a snare or trap\n",
            "Synset('frame.v.04') :  formulate in a particular style or language\n",
            "Synset('frame.v.05') :  make up plans or basic details for\n",
            "Synset('frame.v.06') :  construct by fitting or uniting parts together\n",
            "Synset('framed.a.01') :  provided with a frame\n",
            "\n",
            "\n"
          ]
        }
      ]
    },
    {
      "cell_type": "code",
      "source": [
        "for w in demo_matches:\n",
        "  print(f\"{w.capitalize()}\")\n",
        "  des = []\n",
        "  for s in wn.synsets(w):\n",
        "    des.append(s.definition())\n",
        "  print(wsd(w, demo_sent, des))\n",
        "  print(\"\\n\")"
      ],
      "metadata": {
        "colab": {
          "base_uri": "https://localhost:8080/"
        },
        "id": "BoFA3ivMab83",
        "outputId": "13ed02c6-2600-46f8-dd5c-10d7c21d2640"
      },
      "execution_count": null,
      "outputs": [
        {
          "output_type": "stream",
          "name": "stdout",
          "text": [
            "Picture\n",
            "a visual representation (of an object or scene or person or abstraction) produced on a\n",
            "\n",
            "\n",
            "End\n",
            "have an end, in a temporal, spatial, or quantitative sense; either spatial or\n",
            "\n",
            "\n",
            "Jail\n",
            "lock up or confine, in or as in a jail\n",
            "\n",
            "\n",
            "Framed\n",
            "provided with a frame\n",
            "\n",
            "\n"
          ]
        }
      ]
    }
  ]
}