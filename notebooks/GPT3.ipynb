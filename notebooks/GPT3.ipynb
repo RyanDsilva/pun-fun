{
  "nbformat": 4,
  "nbformat_minor": 0,
  "metadata": {
    "colab": {
      "provenance": []
    },
    "kernelspec": {
      "name": "python3",
      "display_name": "Python 3"
    },
    "language_info": {
      "name": "python"
    }
  },
  "cells": [
    {
      "cell_type": "code",
      "execution_count": null,
      "metadata": {
        "id": "lcllYcdMMQMQ"
      },
      "outputs": [],
      "source": [
        "!pip install openai"
      ]
    },
    {
      "cell_type": "code",
      "source": [
        "import openai\n",
        "\n",
        "input_word = \"love\"\n",
        "meaning_1 = 'a strong positive emotion of regard and affection'\n",
        "meaning_2 = 'a beloved person'\n",
        "\n",
        "openai.api_key = \"\"\n",
        "result = openai.Completion.create(\n",
        "  engine=\"text-davinci-002\",\n",
        "  prompt=f\"Write a pun containing the word '{input_word}' with meanings '{meaning_1}' and '{meaning_2}' \",\n",
        "  max_tokens=100,\n",
        "  temperature = 0.5,\n",
        "  n = 1, \n",
        "  echo = True\n",
        ")\n",
        "print(result.to_dict()['choices'][0]['text'])"
      ],
      "metadata": {
        "colab": {
          "base_uri": "https://localhost:8080/"
        },
        "id": "-UFEc1nyMi0t",
        "outputId": "734efd85-94f9-4960-da00-0118abf1dd6c"
      },
      "execution_count": null,
      "outputs": [
        {
          "output_type": "stream",
          "name": "stdout",
          "text": [
            "Write a pun containing the word 'love' with meanings 'a strong positive emotion of regard and affection' and 'a beloved person' \n",
            "\n",
            "I love spending time with my loved ones.\n"
          ]
        }
      ]
    }
  ]
}